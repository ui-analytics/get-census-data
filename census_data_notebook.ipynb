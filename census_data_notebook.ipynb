{
 "cells": [
  {
   "cell_type": "code",
   "execution_count": 2,
   "metadata": {},
   "outputs": [],
   "source": [
    "from census_data import CensusData\n",
    "import os\n",
    "import json"
   ]
  },
  {
   "cell_type": "markdown",
   "metadata": {},
   "source": [
    "# Getting Census Data from API"
   ]
  },
  {
   "cell_type": "markdown",
   "metadata": {},
   "source": [
    "## Load Exclude Variables\n",
    "This is a JSON file called exclude_variables.json that will exclude variables from a dataset for a specific year because they are not available in the API.  As new cases are found they will be added to this JSON file."
   ]
  },
  {
   "cell_type": "code",
   "execution_count": 3,
   "metadata": {},
   "outputs": [],
   "source": [
    "with open(\"exclude_variables.json\",'r') as f:\n",
    "    exclude_variables = json.load(f)"
   ]
  },
  {
   "cell_type": "markdown",
   "metadata": {},
   "source": [
    "## Set Variables to Generate Data\n",
    "This is setup varialbes for the state codes, dataset paths, key fields , api key and variable lists that will be used to generate the Census data.  One thing to note is that for the **API_KEY** I am calling an environmental variable I have setup on my machine with API key instead of putting it in the code directly.  To set this up in windows click the Windows button and type **Edit the system environment variables**.  Then in the lower right part of the window click **Environment Variables** and then in the section where it says **User variables for \\<username\\>** click **New...** Then for Variable name enter **CENSUS_API_KEY** and for Variable value entry the key that was provided to you by the Census."
   ]
  },
  {
   "cell_type": "code",
   "execution_count": 4,
   "metadata": {},
   "outputs": [],
   "source": [
    "STATE_FIPS_NC=\"37\"\n",
    "STATE_FIPS_SC=\"45\"\n",
    "ACS1_PUMS = r'acs/acs1/pums'\n",
    "ACS5_PUMS = r'acs/acs5/pums'\n",
    "PUMS_KEY_FIELDS = ['SERIALNO','SPORDER']\n",
    "API_KEY = os.environ.get('CENSUS_API_KEY')\n",
    "VARIABLE_EXPORT_LIST = None"
   ]
  },
  {
   "cell_type": "markdown",
   "metadata": {},
   "source": [
    "## Generate List of Years\n",
    "Generate the list of years that you want to generate the data for.  You can just enter one year or a range of years by providing a start and end year.  Additionaly you can excluded years between the provided range.  For example the PUMS data is available going back to 2005 but there was no data for 2020, so I just excluded 2020 from the list."
   ]
  },
  {
   "cell_type": "code",
   "execution_count": null,
   "metadata": {},
   "outputs": [],
   "source": [
    "YEAR_LIST = CensusData.set_year_range(2005,2023,exclude_years=[2020])\n",
    "YEAR_LIST"
   ]
  },
  {
   "cell_type": "markdown",
   "metadata": {},
   "source": [
    "# Get Census Data\n",
    "Pass the required information to the CensusData object to generate the census data.  There is also a parameter for an output folder where the files will be exported to, but if one is not provided it will be written to a folder called output."
   ]
  },
  {
   "cell_type": "code",
   "execution_count": null,
   "metadata": {},
   "outputs": [],
   "source": [
    "cd = CensusData(years=YEAR_LIST,\n",
    "                state_code=STATE_FIPS_SC,\n",
    "                dataset_path=ACS1_PUMS,\n",
    "                key_fields=PUMS_KEY_FIELDS,\n",
    "                api_key=API_KEY,\n",
    "                variable_export_list=VARIABLE_EXPORT_LIST,\n",
    "                exclude_variables=exclude_variables)"
   ]
  },
  {
   "cell_type": "code",
   "execution_count": null,
   "metadata": {},
   "outputs": [],
   "source": [
    "cd.get_census_data()"
   ]
  },
  {
   "cell_type": "code",
   "execution_count": null,
   "metadata": {},
   "outputs": [],
   "source": []
  }
 ],
 "metadata": {
  "kernelspec": {
   "display_name": "data-science",
   "language": "python",
   "name": "python3"
  },
  "language_info": {
   "codemirror_mode": {
    "name": "ipython",
    "version": 3
   },
   "file_extension": ".py",
   "mimetype": "text/x-python",
   "name": "python",
   "nbconvert_exporter": "python",
   "pygments_lexer": "ipython3",
   "version": "3.11.2"
  }
 },
 "nbformat": 4,
 "nbformat_minor": 2
}
