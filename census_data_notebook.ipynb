{
 "cells": [
  {
   "cell_type": "code",
   "execution_count": null,
   "metadata": {},
   "outputs": [],
   "source": [
    "from census_data import CensusData\n",
    "import os\n",
    "import json"
   ]
  },
  {
   "cell_type": "markdown",
   "metadata": {},
   "source": [
    "# Call Exclude Variables"
   ]
  },
  {
   "cell_type": "code",
   "execution_count": null,
   "metadata": {},
   "outputs": [],
   "source": [
    "with open(\"exclude_variables.json\",'r') as f:\n",
    "    exclude_variables = json.load(f)"
   ]
  },
  {
   "cell_type": "markdown",
   "metadata": {},
   "source": [
    "# Set Variables to Generate Data"
   ]
  },
  {
   "cell_type": "code",
   "execution_count": null,
   "metadata": {},
   "outputs": [],
   "source": [
    "STATE_FIPS_NC=\"37\"\n",
    "STATE_FIPS_SC=\"45\"\n",
    "ACS1_PUMS = r'acs/acs1/pums'\n",
    "ACS5_PUMS = r'acs/acs5/pums'\n",
    "PUMS_KEY_FIELDS = ['SERIALNO','SPORDER']\n",
    "API_KEY = os.getenv('CENSUS_API_KEY')\n",
    "VARIABLE_EXPORT_LIST = None"
   ]
  },
  {
   "cell_type": "markdown",
   "metadata": {},
   "source": [
    "# Generate List of Years"
   ]
  },
  {
   "cell_type": "code",
   "execution_count": null,
   "metadata": {},
   "outputs": [],
   "source": [
    "YEAR_LIST = CensusData.set_year_range(2005,2023,exclude_years=[2020])\n",
    "YEAR_LIST"
   ]
  },
  {
   "cell_type": "markdown",
   "metadata": {},
   "source": [
    "# Get Census Data"
   ]
  },
  {
   "cell_type": "code",
   "execution_count": null,
   "metadata": {},
   "outputs": [],
   "source": [
    "cd = CensusData(years=YEAR_LIST,\n",
    "                state_code=STATE_FIPS_SC,\n",
    "                dataset_path=ACS1_PUMS,\n",
    "                key_fields=PUMS_KEY_FIELDS,\n",
    "                api_key=API_KEY,\n",
    "                variable_export_list=VARIABLE_EXPORT_LIST,\n",
    "                exclude_variables=exclude_variables)"
   ]
  },
  {
   "cell_type": "code",
   "execution_count": null,
   "metadata": {},
   "outputs": [],
   "source": [
    "cd.get_census_data()"
   ]
  },
  {
   "cell_type": "code",
   "execution_count": null,
   "metadata": {},
   "outputs": [],
   "source": []
  }
 ],
 "metadata": {
  "kernelspec": {
   "display_name": "data-science",
   "language": "python",
   "name": "python3"
  },
  "language_info": {
   "codemirror_mode": {
    "name": "ipython",
    "version": 3
   },
   "file_extension": ".py",
   "mimetype": "text/x-python",
   "name": "python",
   "nbconvert_exporter": "python",
   "pygments_lexer": "ipython3",
   "version": "3.11.2"
  }
 },
 "nbformat": 4,
 "nbformat_minor": 2
}
